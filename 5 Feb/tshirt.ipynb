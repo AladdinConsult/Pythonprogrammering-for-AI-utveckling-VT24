{
 "cells": [
  {
   "cell_type": "markdown",
   "metadata": {},
   "source": [
    "# Predicting T-shirt size using the ANSUR II dataset\n",
    "We will here try to predict a persons t-shirt size given the weight and height of the person. We will use the ANSUR II dataset which contains a lot of information about the physical attributes of a large number of people. \n",
    "\n",
    "We will first try to map the persons in the dataset to a t-shirt size. It is hard to find a concise size chart for t-shirt so we will create our own, initial chart, based on these assumptions:\n",
    "\n",
    "We will only look at two measurements, Shoulder Width and Chest Circumference.\n",
    "\n",
    "Our first problem is that Shoulder Width is not one of the measurements taken in the dataset. But we have Biacromial Breadth which is the distance between the two acromion processes. We will assume that this is the same as Shoulder Width.\n",
    "\n",
    "We will then have these initial rules:\n",
    "\n",
    "| Size | Percentile |\n",
    "|------|------------|\n",
    "| XS   | 0-5        |\n",
    "| S    | 5-25       |\n",
    "| M    | 25-50      |\n",
    "| L    | 50-75      |\n",
    "| XL   | 75-90      |\n",
    "| XXL  | 90-97      |\n",
    "| XXXL | 97-100     |"
   ]
  },
  {
   "cell_type": "markdown",
   "metadata": {},
   "source": [
    "## Inspect the data"
   ]
  },
  {
   "cell_type": "code",
   "execution_count": 1,
   "metadata": {},
   "outputs": [
    {
     "name": "stderr",
     "output_type": "stream",
     "text": [
      "C:\\Users\\AladdinElkhatib\\AppData\\Local\\Temp\\ipykernel_43824\\1609720030.py:1: DeprecationWarning: \n",
      "Pyarrow will become a required dependency of pandas in the next major release of pandas (pandas 3.0),\n",
      "(to allow more performant data types, such as the Arrow string type, and better interoperability with other libraries)\n",
      "but was not found to be installed on your system.\n",
      "If this would cause problems for you,\n",
      "please provide us feedback at https://github.com/pandas-dev/pandas/issues/54466\n",
      "        \n",
      "  import pandas as pd\n"
     ]
    }
   ],
   "source": [
    "import pandas as pd\n",
    "\n",
    "female = pd.read_csv('./data/female.csv')\n",
    "male = pd.read_csv('./data/male.csv')\n"
   ]
  },
  {
   "cell_type": "code",
   "execution_count": 2,
   "metadata": {},
   "outputs": [
    {
     "name": "stdout",
     "output_type": "stream",
     "text": [
      "For women we have(rows, columns) (1986, 108)\n",
      "For men we have(rows, columns) (4082, 108)\n"
     ]
    }
   ],
   "source": [
    "print(f'For women we have(rows, columns) {female.shape}')\n",
    "print(f'For men we have(rows, columns) {male.shape}')\n"
   ]
  },
  {
   "cell_type": "markdown",
   "metadata": {},
   "source": [
    "## Checking the percentiles\n",
    "Let us determine the percentiles of the data."
   ]
  },
  {
   "cell_type": "code",
   "execution_count": 3,
   "metadata": {},
   "outputs": [
    {
     "name": "stdout",
     "output_type": "stream",
     "text": [
      "{(0, 5): 100, (5, 25): 396, (25, 50): 492, (50, 75): 499, (75, 90): 299, (90, 97): 140, (97, 100): 59}\n",
      "{(0, 5): 93, (5, 25): 377, (25, 50): 477, (50, 75): 541, (75, 90): 297, (90, 97): 139, (97, 100): 61}\n",
      "{(0, 5): 199, (5, 25): 810, (25, 50): 1025, (50, 75): 1012, (75, 90): 616, (90, 97): 295, (97, 100): 124}\n",
      "{(0, 5): 191, (5, 25): 787, (25, 50): 989, (50, 75): 1079, (75, 90): 610, (90, 97): 303, (97, 100): 122}\n"
     ]
    }
   ],
   "source": [
    "def compute_percentile_ranges(column):\n",
    "    #Define percentile ranges\n",
    "    ranges = [(0,5), (5,25), (25,50), (50, 75), (75, 90), (90, 97), (97, 100)]\n",
    "\n",
    "    percentiles = {(low, high): (column.quantile(low/100), column.quantile(high/100)) for low, high in ranges}\n",
    "\n",
    "    counts = {}\n",
    "\n",
    "    for r, (low, high) in percentiles.items():\n",
    "        counts[r] = ((column >= low) & (column < high)).sum()\n",
    "    \n",
    "    return counts\n",
    "\n",
    "print(compute_percentile_ranges(female['chestcircumference']))\n",
    "print(compute_percentile_ranges(female['biacromialbreadth']))\n",
    "\n",
    "print(compute_percentile_ranges(male['chestcircumference']))\n",
    "print(compute_percentile_ranges(male['biacromialbreadth']))\n"
   ]
  },
  {
   "cell_type": "markdown",
   "metadata": {},
   "source": [
    "## Generate the t-shirt size chart"
   ]
  },
  {
   "cell_type": "code",
   "execution_count": 4,
   "metadata": {},
   "outputs": [
    {
     "name": "stdout",
     "output_type": "stream",
     "text": [
      "{'XS': {'Chest': 695, 'Shoulder': 283}, 'S': {'Chest': 824, 'Shoulder': 335}, 'M': {'Chest': 889, 'Shoulder': 353}, 'L': {'Chest': 940, 'Shoulder': 365}, 'XL': {'Chest': 999, 'Shoulder': 378}, '2XL': {'Chest': 1057, 'Shoulder': 389}, '3XL': {'Chest': 1117, 'Shoulder': 400}}\n",
      "{'XS': {'Chest': 774, 'Shoulder': 337}, 'S': {'Chest': 922, 'Shoulder': 384}, 'M': {'Chest': 996, 'Shoulder': 403}, 'L': {'Chest': 1056, 'Shoulder': 415}, 'XL': {'Chest': 1117, 'Shoulder': 428}, '2XL': {'Chest': 1172, 'Shoulder': 441}, '3XL': {'Chest': 1233, 'Shoulder': 452}}\n"
     ]
    }
   ],
   "source": [
    "def compute_size_percentile_measurements(data, chest_column, shoulder_column):\n",
    "    sizes = ['XS', 'S', 'M', 'L', 'XL', '2XL', '3XL']\n",
    "    ranges = [0, 5, 25, 50, 75, 90, 97]\n",
    "    \n",
    "    # Compute the values for each percentile for chest and shoulder\n",
    "    chest_percentiles = {p: data[chest_column].quantile(p/100) for p in ranges}\n",
    "    shoulder_percentiles = {p: data[shoulder_column].quantile(p/100) for p in ranges}\n",
    "   \n",
    "    # Map the t-shirt sizes to the corresponding chest and shoulder measurments\n",
    "    size_mappings = {}\n",
    "    for i, size in enumerate(sizes):\n",
    "        size_mappings[size] = {\n",
    "            'Chest' : int(chest_percentiles[ranges[i]]),\n",
    "            'Shoulder' : int(shoulder_percentiles[ranges[i]])\n",
    "        }\n",
    "        \n",
    "\n",
    "    return size_mappings\n",
    "\n",
    "\n",
    "\n",
    "\n",
    "\n",
    "\n",
    "print(compute_size_percentile_measurements(female, 'chestcircumference', 'biacromialbreadth'))\n",
    "print(compute_size_percentile_measurements(male, 'chestcircumference', 'biacromialbreadth'))\n",
    "\n"
   ]
  },
  {
   "cell_type": "code",
   "execution_count": 5,
   "metadata": {},
   "outputs": [],
   "source": [
    "female_sizes = {\n",
    "    'XS': {'Chest': 695, 'Shoulder': 283}, \n",
    "    'S': {'Chest': 824, 'Shoulder': 335}, \n",
    "    'M': {'Chest': 889, 'Shoulder': 353}, \n",
    "    'L': {'Chest': 940, 'Shoulder': 365}, \n",
    "    'XL': {'Chest': 999, 'Shoulder': 378}, \n",
    "    '2XL': {'Chest': 1057, 'Shoulder': 389}, \n",
    "    '3XL': {'Chest': 1117, 'Shoulder': 400}\n",
    "    }\n",
    "\n",
    "male_sizes = {\n",
    "    'XS': {'Chest': 774, 'Shoulder': 337}, \n",
    "    'S': {'Chest': 922, 'Shoulder': 384}, \n",
    "    'M': {'Chest': 996, 'Shoulder': 403}, \n",
    "    'L': {'Chest': 1056, 'Shoulder': 415}, \n",
    "    'XL': {'Chest': 1117, 'Shoulder': 428}, \n",
    "    '2XL': {'Chest': 1172, 'Shoulder': 441}, \n",
    "    '3XL': {'Chest': 1233, 'Shoulder': 452}\n",
    "}\n"
   ]
  },
  {
   "cell_type": "code",
   "execution_count": 6,
   "metadata": {},
   "outputs": [],
   "source": [
    "def get_size(data, size_chart):\n",
    "    matches = {size: 0 for size in size_chart.keys()}\n",
    "    ties = 0\n",
    "\n",
    "    for _, row in data.iterrows():\n",
    "        possible_sizes = []\n",
    "\n",
    "        for size, measurements in size_chart.items():\n",
    "            if (row['biacromialbreadth'] <= measurements['Shoulder'] and  \n",
    "                row['chestcircumference'] <= measurements['Chest']):\n",
    "                possible_sizes.append(size)\n",
    "\n",
    "        if len(possible_sizes) == 1:\n",
    "            matches[possible_sizes[0]] += 1\n",
    "        elif len(possible_sizes) > 1:\n",
    "            ties += 1\n",
    "    \n",
    "    return matches, ties\n"
   ]
  },
  {
   "cell_type": "code",
   "execution_count": 7,
   "metadata": {},
   "outputs": [
    {
     "name": "stdout",
     "output_type": "stream",
     "text": [
      "Female matches: {'XS': 0, 'S': 0, 'M': 0, 'L': 0, 'XL': 0, '2XL': 0, '3XL': 236}\n",
      "Female ties: 1642\n",
      "Male matches: {'XS': 0, 'S': 0, 'M': 0, 'L': 0, 'XL': 0, '2XL': 0, '3XL': 434}\n",
      "Male ties: 3437\n"
     ]
    }
   ],
   "source": [
    "female_matches, female_ties = get_size(female, female_sizes)\n",
    "male_matches, male_ties = get_size(male, male_sizes)\n",
    "\n",
    "print('Female matches:', female_matches)\n",
    "print('Female ties:', female_ties)\n",
    "print('Male matches:', male_matches)\n",
    "print('Male ties:', male_ties)\n",
    "\n"
   ]
  },
  {
   "cell_type": "markdown",
   "metadata": {},
   "source": [
    "This is not good. Let us have overlapping measurments."
   ]
  },
  {
   "cell_type": "code",
   "execution_count": 8,
   "metadata": {},
   "outputs": [],
   "source": [
    "def create_overlapping_size_chart(original_chart):\n",
    "    # Skapa en tom dict. för den nya storlekstabellen med överlappande mått\n",
    "    overlapping_chart = {}\n",
    "\n",
    "    #  Hämta en lista med storlekarna från den ursprungliga storlekstabellen\n",
    "    sizes = list(original_chart.keys())\n",
    "\n",
    "    # Loopa igenom varje storlek\n",
    "    for i, size in enumerate(sizes):\n",
    "        # Skapa en inre dict för varje storlek i den nya tabellen\n",
    "        overlapping_chart[size] = {}\n",
    "        \n",
    "        # Hantera specialfall för första och sista storleken\n",
    "        if i == 0:\n",
    "            overlapping_chart[size]['Chest'] = [original_chart[size]['Chest'], original_chart[sizes[i+1]]['Chest']+5]\n",
    "            overlapping_chart[size]['Shoulder'] = [original_chart[size]['Shoulder'], original_chart[sizes[i+1]]['Shoulder']+5]\n",
    "        elif i == len(sizes)-1:\n",
    "            overlapping_chart[size]['Chest'] = [original_chart[size]['Chest']-5, original_chart[size]['Chest']+1000]\n",
    "            overlapping_chart[size]['Shoulder'] = [original_chart[size]['Shoulder']-5, original_chart[size]['Shoulder']+1000]\n",
    "        else:\n",
    "            overlapping_chart[size]['Chest'] = [original_chart[size]['Chest']-5, original_chart[sizes[i+1]]['Chest']+5]\n",
    "            overlapping_chart[size]['Shoulder'] = [original_chart[size]['Shoulder']-5, original_chart[sizes[i+1]]['Shoulder']+5]\n",
    "\n",
    "    return overlapping_chart\n",
    "\n",
    "\n"
   ]
  },
  {
   "cell_type": "code",
   "execution_count": 9,
   "metadata": {},
   "outputs": [
    {
     "name": "stdout",
     "output_type": "stream",
     "text": [
      "XS {'Chest': [695, 829], 'Shoulder': [283, 340]}\n",
      "S {'Chest': [819, 894], 'Shoulder': [330, 358]}\n",
      "M {'Chest': [884, 945], 'Shoulder': [348, 370]}\n",
      "L {'Chest': [935, 1004], 'Shoulder': [360, 383]}\n",
      "XL {'Chest': [994, 1062], 'Shoulder': [373, 394]}\n",
      "2XL {'Chest': [1052, 1122], 'Shoulder': [384, 405]}\n",
      "3XL {'Chest': [1112, 2117], 'Shoulder': [395, 1400]}\n",
      "\n",
      "'XS' : {'Chest': [774, 927], 'Shoulder': [337, 389]},\n",
      "'S' : {'Chest': [917, 1001], 'Shoulder': [379, 408]},\n",
      "'M' : {'Chest': [991, 1061], 'Shoulder': [398, 420]},\n",
      "'L' : {'Chest': [1051, 1122], 'Shoulder': [410, 433]},\n",
      "'XL' : {'Chest': [1112, 1177], 'Shoulder': [423, 446]},\n",
      "'2XL' : {'Chest': [1167, 1238], 'Shoulder': [436, 457]},\n",
      "'3XL' : {'Chest': [1228, 2233], 'Shoulder': [447, 1452]},\n"
     ]
    }
   ],
   "source": [
    "new_female_sizes = create_overlapping_size_chart(female_sizes)\n",
    "new_male_sizes = create_overlapping_size_chart(male_sizes)\n",
    "\n",
    "# loopar igenom varje storlek (k) och dess överlappande mått (v) för kvinnor/män och skriver ut dem\n",
    "\n",
    "for k, v in new_female_sizes.items():\n",
    "    print(k,v)\n",
    "print()\n",
    "for k, v in new_male_sizes.items():\n",
    "    print(f\"'{k}' : {v},\")\n"
   ]
  },
  {
   "cell_type": "code",
   "execution_count": 10,
   "metadata": {},
   "outputs": [],
   "source": [
    "female_sizes = {\n",
    "'XS' : {'Chest': [695, 829], 'Shoulder': [283, 340]},\n",
    "'S' :{'Chest': [819, 894], 'Shoulder': [330, 358]},\n",
    "'M' :{'Chest': [884, 945], 'Shoulder': [348, 370]},\n",
    "'L' :{'Chest': [935, 1004], 'Shoulder': [360, 383]},\n",
    "'XL' :{'Chest': [994, 1062], 'Shoulder': [373, 394]},\n",
    "'2XL' :{'Chest': [1052, 1122], 'Shoulder': [384, 405]},\n",
    "'3XL' :{'Chest': [1112, 2117], 'Shoulder': [395, 1400]}\n",
    "}\n",
    "\n",
    "male_sizes = {\n",
    "    'XS' : {'Chest': [774, 927], 'Shoulder': [337, 389]},\n",
    "    'S' : {'Chest': [917, 1001], 'Shoulder': [379, 408]},\n",
    "    'M' : {'Chest': [991, 1061], 'Shoulder': [398, 420]},\n",
    "    'L' : {'Chest': [1051, 1122], 'Shoulder': [410, 433]},\n",
    "    'XL' : {'Chest': [1112, 1177], 'Shoulder': [423, 446]},\n",
    "    '2XL' : {'Chest': [1167, 1238], 'Shoulder': [436, 457]},\n",
    "    '3XL' : {'Chest': [1228, 2233], 'Shoulder': [447, 1452]},\n",
    "}"
   ]
  },
  {
   "cell_type": "code",
   "execution_count": 14,
   "metadata": {},
   "outputs": [],
   "source": [
    "def get_size(data, size_chart):\n",
    "    # Skapa en dict för att räkna antalet matchningar för varje storlek\n",
    "    matches = {size: 0 for size in size_chart.keys()}\n",
    "    # Variabel för att räkna antalet situationer fär det finns flera möjliga storlekar\n",
    "    ties = 0\n",
    "\n",
    "    # Hämta en lista med storlekarna i ordning\n",
    "    size_ordered = list(size_chart.keys())\n",
    "\n",
    "    # loopa igenom varje rad i data\n",
    "    for _, row in data.iterrows():\n",
    "        # Lista för att hålla de möjliga storlekarna för den aktuella personen\n",
    "        possible_sizes = []\n",
    "\n",
    "        # Loopa igenom varje storlek i storlekstabellen\n",
    "        for size, measurements in size_chart.items():\n",
    "            # Kontrollerade om personernas mått ligger inom intervaller för den aktuella storleken\n",
    "            if (row['biacromialbreadth'] >= measurements['Shoulder'][0] and \n",
    "                row['biacromialbreadth'] <= measurements['Shoulder'][1] and\n",
    "                row['chestcircumference'] >= measurements['Chest'][0] and\n",
    "                row['chestcircumference'] <= measurements['Chest'][1]):\n",
    "                possible_sizes.append(size)\n",
    "\n",
    "        # Om det bara finns en möjlig storlek, öka räknaren för den storleken\n",
    "        if len(possible_sizes) == 1:\n",
    "            matches[possible_sizes[0]] += 1\n",
    "        # Om det finns flera möjliga storlekar\n",
    "        elif len(possible_sizes) > 1:\n",
    "            # Check if sizes are adjecent\n",
    "            are_adjecent = all([abs(size_ordered.index(possible_sizes[i]) - size_ordered.index(possible_sizes[i+1])) ==1 \n",
    "                                for i in range(len(possible_sizes)-1)])\n",
    "            if are_adjecent:\n",
    "                #Assign the larger size\n",
    "                larger_size = max(possible_sizes, key = lambda s: size_ordered.index(s))\n",
    "                matches[larger_size] += 1\n",
    "            else:\n",
    "                # Öka räknaren för situationer där det finns flera möjliga storlekar\n",
    "                ties += 1\n",
    "    return matches, ties "
   ]
  },
  {
   "cell_type": "code",
   "execution_count": 12,
   "metadata": {},
   "outputs": [],
   "source": [
    "result = all([True, True, False])\n",
    "print(result)\n",
    "\n",
    "x = 10\n",
    "result = all([x<15, x==10, x < 12])\n",
    "print(result)"
   ]
  },
  {
   "cell_type": "code",
   "execution_count": 16,
   "metadata": {},
   "outputs": [
    {
     "name": "stdout",
     "output_type": "stream",
     "text": [
      "Female matches: {'XS': 23, 'S': 185, 'M': 247, 'L': 276, 'XL': 118, '2XL': 35, '3XL': 13}\n",
      "Female ties: 0\n",
      "Male matches: {'XS': 63, 'S': 428, 'M': 578, 'L': 593, 'XL': 331, '2XL': 101, '3XL': 50}\n",
      "Male ties: 0\n"
     ]
    }
   ],
   "source": [
    "female_matches, female_ties = get_size(female, female_sizes)\n",
    "male_matches, male_ties = get_size(male, male_sizes)\n",
    "\n",
    "print('Female matches:', female_matches)\n",
    "print('Female ties:', female_ties)\n",
    "print('Male matches:', male_matches)\n",
    "print('Male ties:', male_ties)\n",
    "\n"
   ]
  }
 ],
 "metadata": {
  "kernelspec": {
   "display_name": "venv",
   "language": "python",
   "name": "python3"
  },
  "language_info": {
   "codemirror_mode": {
    "name": "ipython",
    "version": 3
   },
   "file_extension": ".py",
   "mimetype": "text/x-python",
   "name": "python",
   "nbconvert_exporter": "python",
   "pygments_lexer": "ipython3",
   "version": "3.12.1"
  }
 },
 "nbformat": 4,
 "nbformat_minor": 2
}
