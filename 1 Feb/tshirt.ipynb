{
 "cells": [
  {
   "cell_type": "markdown",
   "metadata": {},
   "source": [
    "# Predicting T-shirt size using the ANSUR II dataset\n",
    "We will here try to predict a persons t-shirt size given the weight and height of the person. We will use the ANSUR II dataset which contains a lot of information about the physical attributes of a large number of people. \n",
    "\n",
    "We will first try to map the persons in the dataset to a t-shirt size. It is hard to find a concise size chart for t-shirt so we will create our own, initial chart, based on these assumptions:\n",
    "\n",
    "We will only look at two measurements, Shoulder Width and Chest Circumference.\n",
    "\n",
    "Our first problem is that Shoulder Width is not one of the measurements taken in the dataset. But we have Biacromial Breadth which is the distance between the two acromion processes. We will assume that this is the same as Shoulder Width.\n",
    "\n",
    "We will then have these initial rules:\n",
    "\n",
    "| Size | Percentile |\n",
    "|------|------------|\n",
    "| XS   | 0-5        |\n",
    "| S    | 5-25       |\n",
    "| M    | 25-50      |\n",
    "| L    | 50-75      |\n",
    "| XL   | 75-90      |\n",
    "| XXL  | 90-97      |\n",
    "| XXXL | 97-100     |"
   ]
  },
  {
   "cell_type": "markdown",
   "metadata": {},
   "source": [
    "## Inspect the data"
   ]
  },
  {
   "cell_type": "code",
   "execution_count": 2,
   "metadata": {},
   "outputs": [],
   "source": [
    "import pandas as pd\n",
    "\n",
    "female = pd.read_csv('./data/female.csv')\n",
    "male = pd.read_csv('./data/male.csv')\n"
   ]
  },
  {
   "cell_type": "code",
   "execution_count": 3,
   "metadata": {},
   "outputs": [
    {
     "name": "stdout",
     "output_type": "stream",
     "text": [
      "For women we have(rows, columns) (1986, 108)\n",
      "For men we have(rows, columns) (4082, 108)\n"
     ]
    }
   ],
   "source": [
    "print(f'For women we have(rows, columns) {female.shape}')\n",
    "print(f'For men we have(rows, columns) {male.shape}')\n"
   ]
  },
  {
   "cell_type": "markdown",
   "metadata": {},
   "source": [
    "## Checking the percentiles\n",
    "Let us determine the percentiles of the data."
   ]
  },
  {
   "cell_type": "code",
   "execution_count": 4,
   "metadata": {},
   "outputs": [
    {
     "name": "stdout",
     "output_type": "stream",
     "text": [
      "{(0, 5): (695.0, 824.25), (5, 25): (824.25, 889.0), (25, 50): (889.0, 940.0), (50, 75): (940.0, 999.0), (75, 90): (999.0, 1057.0), (90, 97): (1057.0, 1117.45), (97, 100): (1117.45, 1266.0)}\n"
     ]
    }
   ],
   "source": [
    "def compute_percentile_ranges(column):\n",
    "    #Define percentile ranges\n",
    "    ranges = [(0,5), (5,25), (25,50), (50, 75), (75, 90), (90, 97), (97, 100)]\n",
    "\n",
    "    percentiles = {(low, high): (column.quantile(low/100), column.quantile(high/100)) for low, high in ranges}\n",
    "\n",
    "    print(percentiles)\n",
    "\n",
    "compute_percentile_ranges(female['chestcircumference'])"
   ]
  }
 ],
 "metadata": {
  "kernelspec": {
   "display_name": "venv",
   "language": "python",
   "name": "python3"
  },
  "language_info": {
   "codemirror_mode": {
    "name": "ipython",
    "version": 3
   },
   "file_extension": ".py",
   "mimetype": "text/x-python",
   "name": "python",
   "nbconvert_exporter": "python",
   "pygments_lexer": "ipython3",
   "version": "3.12.1"
  }
 },
 "nbformat": 4,
 "nbformat_minor": 2
}
